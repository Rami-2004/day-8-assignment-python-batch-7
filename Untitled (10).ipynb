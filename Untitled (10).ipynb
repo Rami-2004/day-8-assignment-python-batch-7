{
 "cells": [
  {
   "cell_type": "markdown",
   "metadata": {},
   "source": [
    "# Assignment 1"
   ]
  },
  {
   "cell_type": "code",
   "execution_count": 1,
   "metadata": {},
   "outputs": [
    {
     "name": "stdout",
     "output_type": "stream",
     "text": [
      "Hello, this is rami\n",
      "smart and cool\n",
      "upcoming entrepreneur\n"
     ]
    }
   ],
   "source": [
    "def decorator1(func):\n",
    "    def inside(): \n",
    "        print(\"Hello, this is rami\")\n",
    "        func() \n",
    "\n",
    "        print(\"upcoming entrepreneur\") \n",
    "\n",
    "    return inside \n",
    "\n",
    "\n",
    "\n",
    "def new_function(): \n",
    "    print(\"smart and cool\") \n",
    "    \n",
    "new_function= decorator1(new_function) \n",
    "\n",
    " \n",
    "new_function() \n"
   ]
  },
  {
   "cell_type": "markdown",
   "metadata": {},
   "source": [
    "# Assignment 2"
   ]
  },
  {
   "cell_type": "code",
   "execution_count": 46,
   "metadata": {},
   "outputs": [
    {
     "name": "stdout",
     "output_type": "stream",
     "text": [
      "my name is rami\n"
     ]
    }
   ],
   "source": [
    "file=open(\"newfile.txt\")\n",
    "print(file.read())\n",
    "file.close()"
   ]
  },
  {
   "cell_type": "code",
   "execution_count": 47,
   "metadata": {},
   "outputs": [],
   "source": [
    "file=open(\"newfile.txt\",\"a\")\n",
    "file.write(\"\\nupcoming entrepreneur\")\n",
    "file.close()"
   ]
  },
  {
   "cell_type": "code",
   "execution_count": 49,
   "metadata": {},
   "outputs": [
    {
     "name": "stdout",
     "output_type": "stream",
     "text": [
      "my name is rami\n",
      "upcoming entrepreneur\n"
     ]
    }
   ],
   "source": [
    "file=open(\"newfile.txt\",\"r\")\n",
    "print(file.read())\n",
    "file.close()"
   ]
  },
  {
   "cell_type": "code",
   "execution_count": null,
   "metadata": {},
   "outputs": [],
   "source": []
  }
 ],
 "metadata": {
  "kernelspec": {
   "display_name": "Python 3",
   "language": "python",
   "name": "python3"
  },
  "language_info": {
   "codemirror_mode": {
    "name": "ipython",
    "version": 3
   },
   "file_extension": ".py",
   "mimetype": "text/x-python",
   "name": "python",
   "nbconvert_exporter": "python",
   "pygments_lexer": "ipython3",
   "version": "3.7.6"
  }
 },
 "nbformat": 4,
 "nbformat_minor": 4
}
